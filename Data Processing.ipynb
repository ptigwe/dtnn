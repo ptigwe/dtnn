{
 "cells": [
  {
   "cell_type": "code",
   "execution_count": 1,
   "metadata": {},
   "outputs": [],
   "source": [
    "%load_ext autoreload\n",
    "%autoreload 2"
   ]
  },
  {
   "cell_type": "code",
   "execution_count": 2,
   "metadata": {},
   "outputs": [],
   "source": [
    "import pandas as pd\n",
    "from rdkit import Chem\n",
    "from rdkit.Chem import AllChem\n",
    "from sklearn import metrics\n",
    "import tqdm\n",
    "import pickle as pkl"
   ]
  },
  {
   "cell_type": "code",
   "execution_count": 2,
   "metadata": {},
   "outputs": [],
   "source": [
    "df = pd.read_csv('data/qm8.csv')"
   ]
  },
  {
   "cell_type": "code",
   "execution_count": 3,
   "metadata": {},
   "outputs": [
    {
     "data": {
      "text/html": [
       "<div>\n",
       "<style scoped>\n",
       "    .dataframe tbody tr th:only-of-type {\n",
       "        vertical-align: middle;\n",
       "    }\n",
       "\n",
       "    .dataframe tbody tr th {\n",
       "        vertical-align: top;\n",
       "    }\n",
       "\n",
       "    .dataframe thead th {\n",
       "        text-align: right;\n",
       "    }\n",
       "</style>\n",
       "<table border=\"1\" class=\"dataframe\">\n",
       "  <thead>\n",
       "    <tr style=\"text-align: right;\">\n",
       "      <th></th>\n",
       "      <th>smiles</th>\n",
       "      <th>E1-CC2</th>\n",
       "      <th>E2-CC2</th>\n",
       "      <th>f1-CC2</th>\n",
       "      <th>f2-CC2</th>\n",
       "      <th>E1-PBE0</th>\n",
       "      <th>E2-PBE0</th>\n",
       "      <th>f1-PBE0</th>\n",
       "      <th>f2-PBE0</th>\n",
       "      <th>E1-PBE0.1</th>\n",
       "      <th>E2-PBE0.1</th>\n",
       "      <th>f1-PBE0.1</th>\n",
       "      <th>f2-PBE0.1</th>\n",
       "      <th>E1-CAM</th>\n",
       "      <th>E2-CAM</th>\n",
       "      <th>f1-CAM</th>\n",
       "      <th>f2-CAM</th>\n",
       "    </tr>\n",
       "  </thead>\n",
       "  <tbody>\n",
       "    <tr>\n",
       "      <th>0</th>\n",
       "      <td>[H]C([H])([H])[H]</td>\n",
       "      <td>0.432952</td>\n",
       "      <td>0.432960</td>\n",
       "      <td>0.249728</td>\n",
       "      <td>0.249736</td>\n",
       "      <td>0.430218</td>\n",
       "      <td>0.430236</td>\n",
       "      <td>0.181436</td>\n",
       "      <td>1.815015e-01</td>\n",
       "      <td>0.430218</td>\n",
       "      <td>0.430236</td>\n",
       "      <td>0.181436</td>\n",
       "      <td>1.815015e-01</td>\n",
       "      <td>0.409931</td>\n",
       "      <td>0.409939</td>\n",
       "      <td>0.1832</td>\n",
       "      <td>0.1832</td>\n",
       "    </tr>\n",
       "    <tr>\n",
       "      <th>1</th>\n",
       "      <td>[H]N([H])[H]</td>\n",
       "      <td>0.265220</td>\n",
       "      <td>0.350081</td>\n",
       "      <td>0.067015</td>\n",
       "      <td>0.030049</td>\n",
       "      <td>0.268386</td>\n",
       "      <td>0.349106</td>\n",
       "      <td>0.040761</td>\n",
       "      <td>3.164115e-02</td>\n",
       "      <td>0.268386</td>\n",
       "      <td>0.349106</td>\n",
       "      <td>0.040761</td>\n",
       "      <td>3.164115e-02</td>\n",
       "      <td>0.253853</td>\n",
       "      <td>0.334481</td>\n",
       "      <td>0.0575</td>\n",
       "      <td>0.0238</td>\n",
       "    </tr>\n",
       "    <tr>\n",
       "      <th>2</th>\n",
       "      <td>[H]O[H]</td>\n",
       "      <td>0.286537</td>\n",
       "      <td>0.363579</td>\n",
       "      <td>0.037755</td>\n",
       "      <td>0.000000</td>\n",
       "      <td>0.291377</td>\n",
       "      <td>0.362091</td>\n",
       "      <td>0.019503</td>\n",
       "      <td>1.000000e-08</td>\n",
       "      <td>0.291377</td>\n",
       "      <td>0.362091</td>\n",
       "      <td>0.019503</td>\n",
       "      <td>1.000000e-08</td>\n",
       "      <td>0.278519</td>\n",
       "      <td>0.350074</td>\n",
       "      <td>0.0333</td>\n",
       "      <td>0.0000</td>\n",
       "    </tr>\n",
       "    <tr>\n",
       "      <th>3</th>\n",
       "      <td>[H]C#C[H]</td>\n",
       "      <td>0.358629</td>\n",
       "      <td>0.358629</td>\n",
       "      <td>0.000000</td>\n",
       "      <td>0.000000</td>\n",
       "      <td>0.256321</td>\n",
       "      <td>0.268469</td>\n",
       "      <td>0.000000</td>\n",
       "      <td>0.000000e+00</td>\n",
       "      <td>0.256321</td>\n",
       "      <td>0.268469</td>\n",
       "      <td>0.000000</td>\n",
       "      <td>0.000000e+00</td>\n",
       "      <td>0.244879</td>\n",
       "      <td>0.255051</td>\n",
       "      <td>0.0000</td>\n",
       "      <td>0.0000</td>\n",
       "    </tr>\n",
       "    <tr>\n",
       "      <th>4</th>\n",
       "      <td>[H]C#N</td>\n",
       "      <td>0.319958</td>\n",
       "      <td>0.336074</td>\n",
       "      <td>0.000000</td>\n",
       "      <td>0.000000</td>\n",
       "      <td>0.295139</td>\n",
       "      <td>0.311657</td>\n",
       "      <td>0.000000</td>\n",
       "      <td>0.000000e+00</td>\n",
       "      <td>0.295139</td>\n",
       "      <td>0.311657</td>\n",
       "      <td>0.000000</td>\n",
       "      <td>0.000000e+00</td>\n",
       "      <td>0.283425</td>\n",
       "      <td>0.296993</td>\n",
       "      <td>0.0000</td>\n",
       "      <td>0.0000</td>\n",
       "    </tr>\n",
       "  </tbody>\n",
       "</table>\n",
       "</div>"
      ],
      "text/plain": [
       "              smiles    E1-CC2    E2-CC2    f1-CC2    f2-CC2   E1-PBE0  \\\n",
       "0  [H]C([H])([H])[H]  0.432952  0.432960  0.249728  0.249736  0.430218   \n",
       "1       [H]N([H])[H]  0.265220  0.350081  0.067015  0.030049  0.268386   \n",
       "2            [H]O[H]  0.286537  0.363579  0.037755  0.000000  0.291377   \n",
       "3          [H]C#C[H]  0.358629  0.358629  0.000000  0.000000  0.256321   \n",
       "4             [H]C#N  0.319958  0.336074  0.000000  0.000000  0.295139   \n",
       "\n",
       "    E2-PBE0   f1-PBE0       f2-PBE0  E1-PBE0.1  E2-PBE0.1  f1-PBE0.1  \\\n",
       "0  0.430236  0.181436  1.815015e-01   0.430218   0.430236   0.181436   \n",
       "1  0.349106  0.040761  3.164115e-02   0.268386   0.349106   0.040761   \n",
       "2  0.362091  0.019503  1.000000e-08   0.291377   0.362091   0.019503   \n",
       "3  0.268469  0.000000  0.000000e+00   0.256321   0.268469   0.000000   \n",
       "4  0.311657  0.000000  0.000000e+00   0.295139   0.311657   0.000000   \n",
       "\n",
       "      f2-PBE0.1    E1-CAM    E2-CAM  f1-CAM  f2-CAM  \n",
       "0  1.815015e-01  0.409931  0.409939  0.1832  0.1832  \n",
       "1  3.164115e-02  0.253853  0.334481  0.0575  0.0238  \n",
       "2  1.000000e-08  0.278519  0.350074  0.0333  0.0000  \n",
       "3  0.000000e+00  0.244879  0.255051  0.0000  0.0000  \n",
       "4  0.000000e+00  0.283425  0.296993  0.0000  0.0000  "
      ]
     },
     "execution_count": 3,
     "metadata": {},
     "output_type": "execute_result"
    }
   ],
   "source": [
    "df.head()"
   ]
  },
  {
   "cell_type": "code",
   "execution_count": null,
   "metadata": {},
   "outputs": [],
   "source": [
    "tqdm.tqdm.pandas()"
   ]
  },
  {
   "cell_type": "code",
   "execution_count": 11,
   "metadata": {},
   "outputs": [],
   "source": [
    "def process_smile(smile):\n",
    "    mol = Chem.MolFromSmiles(smile)\n",
    "    mol = Chem.AddHs(mol)\n",
    "    AllChem.EmbedMolecule(mol)\n",
    "    \n",
    "    is_3d = False\n",
    "    pos = []\n",
    "    for c in mol.GetConformers():\n",
    "        pos.append(c.GetPositions())\n",
    "        is_3d |= c.Is3D()\n",
    "        \n",
    "    return np.concatenate(pos)"
   ]
  },
  {
   "cell_type": "code",
   "execution_count": 49,
   "metadata": {},
   "outputs": [],
   "source": [
    "def smile_features(smile):\n",
    "    mol = Chem.MolFromSmiles(smile)\n",
    "    mol = Chem.AddHs(mol)\n",
    "    \n",
    "    atomic_nums = [a.GetAtomicNum() for a in mol.GetAtoms()]\n",
    "    \n",
    "    dist_matrix = Chem.rdDistGeom.GetMoleculeBoundsMatrix(mol)\n",
    "    return (atomic_nums, dist_matrix)"
   ]
  },
  {
   "cell_type": "code",
   "execution_count": 30,
   "metadata": {},
   "outputs": [
    {
     "data": {
      "text/plain": [
       "0"
      ]
     },
     "execution_count": 30,
     "metadata": {},
     "output_type": "execute_result"
    }
   ],
   "source": [
    "mol = Chem.MolFromSmiles(df.smiles[1])\n",
    "mol = Chem.AddHs(mol)\n",
    "AllChem.EmbedMolecule(mol)"
   ]
  },
  {
   "cell_type": "code",
   "execution_count": 31,
   "metadata": {},
   "outputs": [
    {
     "data": {
      "image/png": "[encoded data removed]",
      "text/plain": [
       "<rdkit.Chem.rdchem.Mol at 0x7ff4a250d850>"
      ]
     },
     "execution_count": 31,
     "metadata": {},
     "output_type": "execute_result"
    }
   ],
   "source": [
    "mol"
   ]
  },
  {
   "cell_type": "code",
   "execution_count": 66,
   "metadata": {},
   "outputs": [],
   "source": [
    "sample_df = df.head(100).copy()"
   ]
  },
  {
   "cell_type": "code",
   "execution_count": 36,
   "metadata": {},
   "outputs": [
    {
     "name": "stderr",
     "output_type": "stream",
     "text": [
      "100%|██████████| 10/10 [00:00<00:00, 674.81it/s]\n"
     ]
    }
   ],
   "source": [
    "res = df.smiles.head(10).progress_apply(smile_features).to_list()"
   ]
  },
  {
   "cell_type": "code",
   "execution_count": 67,
   "metadata": {},
   "outputs": [
    {
     "name": "stderr",
     "output_type": "stream",
     "text": [
      "100%|██████████| 100/100 [00:00<00:00, 1388.97it/s]\n"
     ]
    }
   ],
   "source": [
    "sample_df.loc[:, ['Z', 'D']] = sample_df.smiles.progress_apply(smile_features).to_list()"
   ]
  },
  {
   "cell_type": "code",
   "execution_count": 68,
   "metadata": {},
   "outputs": [],
   "source": [
    "sample_df.to_pickle('data/preprocessed_df.pkl')"
   ]
  },
  {
   "cell_type": "code",
   "execution_count": 5,
   "metadata": {},
   "outputs": [],
   "source": [
    "sample_df = pd.read_pickle('data/preprocessed_df.pkl')"
   ]
  },
  {
   "cell_type": "code",
   "execution_count": 8,
   "metadata": {},
   "outputs": [],
   "source": [
    "import data\n",
    "from torch.utils.data import DataLoader"
   ]
  },
  {
   "cell_type": "code",
   "execution_count": 9,
   "metadata": {},
   "outputs": [],
   "source": [
    "d = data.QM8Dataset(sample_df.columns[3], 30)"
   ]
  },
  {
   "cell_type": "code",
   "execution_count": 10,
   "metadata": {},
   "outputs": [],
   "source": [
    "dl = DataLoader(d, 20)"
   ]
  },
  {
   "cell_type": "code",
   "execution_count": 11,
   "metadata": {},
   "outputs": [],
   "source": [
    "Zs, Ds, sizes, target = next(iter(dl))"
   ]
  },
  {
   "cell_type": "code",
   "execution_count": 12,
   "metadata": {},
   "outputs": [
    {
     "data": {
      "text/plain": [
       "Index(['smiles', 'E1-CC2', 'E2-CC2', 'f1-CC2', 'f2-CC2', 'E1-PBE0', 'E2-PBE0',\n",
       "       'f1-PBE0', 'f2-PBE0', 'E1-PBE0.1', 'E2-PBE0.1', 'f1-PBE0.1',\n",
       "       'f2-PBE0.1', 'E1-CAM', 'E2-CAM', 'f1-CAM', 'f2-CAM', 'Z', 'D'],\n",
       "      dtype='object')"
      ]
     },
     "execution_count": 12,
     "metadata": {},
     "output_type": "execute_result"
    }
   ],
   "source": [
    "sample_df.columns"
   ]
  },
  {
   "cell_type": "code",
   "execution_count": null,
   "metadata": {},
   "outputs": [],
   "source": []
  }
 ],
 "metadata": {
  "kernelspec": {
   "display_name": "Python 3",
   "language": "python",
   "name": "python3"
  },
  "language_info": {
   "codemirror_mode": {
    "name": "ipython",
    "version": 3
   },
   "file_extension": ".py",
   "mimetype": "text/x-python",
   "name": "python",
   "nbconvert_exporter": "python",
   "pygments_lexer": "ipython3",
   "version": "3.7.7"
  }
 },
 "nbformat": 4,
 "nbformat_minor": 4
}
