{
 "cells": [
  {
   "cell_type": "code",
   "execution_count": 1,
   "metadata": {},
   "outputs": [],
   "source": [
    "%load_ext autoreload\n",
    "%autoreload 2"
   ]
  },
  {
   "cell_type": "code",
   "execution_count": 28,
   "metadata": {},
   "outputs": [],
   "source": [
    "import torch\n",
    "import torch.nn as nn\n",
    "import torch.nn.functional as F\n",
    "from torch.utils.data import Dataset, DataLoader\n",
    "from torch_geometric.data import InMemoryDataset, Data\n",
    "import torch_geometric.transforms as T\n",
    "import numpy as np\n",
    "import pickle as pkl\n",
    "import utils\n",
    "import data"
   ]
  },
  {
   "cell_type": "code",
   "execution_count": 3,
   "metadata": {},
   "outputs": [],
   "source": [
    "min_atoms = 5\n",
    "max_atoms = 30\n",
    "num_atoms = 110\n",
    "basis = 3\n",
    "num_gauss = 5\n",
    "hidden = 6"
   ]
  },
  {
   "cell_type": "code",
   "execution_count": 4,
   "metadata": {},
   "outputs": [],
   "source": [
    "Zs, Ds, sizes = utils.create_dummy_batch(min_atoms, max_atoms, num_atoms, 20)"
   ]
  },
  {
   "cell_type": "code",
   "execution_count": 5,
   "metadata": {},
   "outputs": [
    {
     "data": {
      "text/plain": [
       "tensor([16, 16, 19, 29, 29, 10, 24, 12,  8, 15, 20, 17, 26, 12, 25, 12, 20, 20,\n",
       "        13, 20])"
      ]
     },
     "execution_count": 5,
     "metadata": {},
     "output_type": "execute_result"
    }
   ],
   "source": [
    "sizes"
   ]
  },
  {
   "cell_type": "code",
   "execution_count": 6,
   "metadata": {},
   "outputs": [],
   "source": [
    "class InteractionBlock(nn.Module):\n",
    "    def __init__(self, basis, hidden):\n",
    "        super().__init__()\n",
    "        self.cf = nn.Linear(basis, hidden)\n",
    "        self.fc = nn.Linear(hidden, basis, False)\n",
    "    \n",
    "    def forward(self, C, D_hat, sizes):\n",
    "        X = self.cf(C)\n",
    "        X = X.unsqueeze(-2) * D_hat\n",
    "        X = torch.tanh(self.fc(X))\n",
    "        \n",
    "        num_batch = C.shape[0] if len(C.shape) > 2 else 1\n",
    "        mask = utils.mask_2d(sizes, max_atoms)\n",
    "        return (mask.unsqueeze(-1) * X).sum(-3)"
   ]
  },
  {
   "cell_type": "code",
   "execution_count": 7,
   "metadata": {},
   "outputs": [],
   "source": [
    "class MDTNN(nn.Module):\n",
    "    def __init__(self, basis, num_atoms, num_gauss, hidden, T=3):\n",
    "        super().__init__()\n",
    "        self.basis = basis\n",
    "        self.T = T\n",
    "        \n",
    "        self.C_embed = nn.Embedding(num_atoms + 1, basis)\n",
    "        self.df = nn.Linear(num_gauss, hidden)\n",
    "        self.interaction = InteractionBlock(basis, hidden)\n",
    "        self.mlp = nn.Sequential(nn.Linear(basis, hidden),\n",
    "                                 nn.Tanh(),\n",
    "                                 nn.Linear(hidden, 1))\n",
    "    \n",
    "    def forward(self, Z, D, sizes):\n",
    "        C = self.C_embed(Z)\n",
    "        d_hat = self.df(D)\n",
    "        \n",
    "        print(C.shape)\n",
    "        print(d_hat.shape)\n",
    "        for _ in range(self.T):\n",
    "            C += self.interaction(C, d_hat, sizes)\n",
    "            \n",
    "        E = self.mlp(C).squeeze()\n",
    "        mask = utils.mask_1d(sizes, max_atoms)\n",
    "        \n",
    "        return (mask * E).sum(-1)#.squeeze()"
   ]
  },
  {
   "cell_type": "code",
   "execution_count": 8,
   "metadata": {},
   "outputs": [],
   "source": [
    "model = MDTNN(basis, num_atoms, num_gauss, hidden)"
   ]
  },
  {
   "cell_type": "code",
   "execution_count": 9,
   "metadata": {},
   "outputs": [
    {
     "data": {
      "text/plain": [
       "tensor([[ 32,  42, 104,  84,  45,  33,  41,  63,  43,  62,  13,  15,  82,  26,\n",
       "          47,  15,   0,   0,   0,   0,   0,   0,   0,   0,   0,   0,   0,   0,\n",
       "           0,   0],\n",
       "        [  2,  92,  82,  68,  94,   6, 108,  78,   2,  64,  61,  22,   4,  59,\n",
       "          43, 107,   0,   0,   0,   0,   0,   0,   0,   0,   0,   0,   0,   0,\n",
       "           0,   0],\n",
       "        [ 50,  35,   9,  97,  43,  24,  50,  86,  96,   9,  27,  75,  28,  95,\n",
       "          11,  19,  40,  15,  37,   0,   0,   0,   0,   0,   0,   0,   0,   0,\n",
       "           0,   0],\n",
       "        [ 13,  55,  15,  32, 104, 108,  92, 107,   6,  93,  25,  51,  84,  21,\n",
       "          89,  63,  39,  21,  10,  56,  51, 109,  51,  33,   3,  25,  59,  50,\n",
       "           8,   0],\n",
       "        [ 42,  42, 110,   8,  68,  72,  27,  53,  30,  94,  82,  75,  87,  17,\n",
       "          29,   6,  15,  96,  41,  74,  86,  79,  34,  68,  76,   9, 110,  10,\n",
       "          22,   0],\n",
       "        [ 76,  98,   6,  72,  19,  83,  56,  65,  16,  75,   0,   0,   0,   0,\n",
       "           0,   0,   0,   0,   0,   0,   0,   0,   0,   0,   0,   0,   0,   0,\n",
       "           0,   0],\n",
       "        [ 35, 106,   6,  83,   1,  51,  92,  98,  29,  55,  81,  10,  40,  87,\n",
       "         103,  75,  98,  73,  85,  15,  64,  62,  70,  24,   0,   0,   0,   0,\n",
       "           0,   0],\n",
       "        [ 52,  23,  80,  36,  38,  21,  91,  69,  33,  49,  19,  64,   0,   0,\n",
       "           0,   0,   0,   0,   0,   0,   0,   0,   0,   0,   0,   0,   0,   0,\n",
       "           0,   0],\n",
       "        [ 35,  48,  59,  71,  40,  61, 103,  31,   0,   0,   0,   0,   0,   0,\n",
       "           0,   0,   0,   0,   0,   0,   0,   0,   0,   0,   0,   0,   0,   0,\n",
       "           0,   0],\n",
       "        [  5,  98,  35,  74,  86,  92,  13,   4,  58, 103, 105,  23,  45,  39,\n",
       "           2,   0,   0,   0,   0,   0,   0,   0,   0,   0,   0,   0,   0,   0,\n",
       "           0,   0],\n",
       "        [ 96,  18,   3,  79,  45,  69,   6,  27,  43,  76,  37, 102,  76,  92,\n",
       "          29, 100,  22,  31,  74,  64,   0,   0,   0,   0,   0,   0,   0,   0,\n",
       "           0,   0],\n",
       "        [ 86,  13, 110,  67,  79,  12,  82,  20,  29, 102,  11, 109,  93,  29,\n",
       "          66,  68,  36,   0,   0,   0,   0,   0,   0,   0,   0,   0,   0,   0,\n",
       "           0,   0],\n",
       "        [ 82,  14,   9,  77,  80,  99,  19, 102,  76, 101,  87,  68,  64,  72,\n",
       "          17,  66,  32,  72,   6,  12,  81, 104,  81,   1,  11,  63,   0,   0,\n",
       "           0,   0],\n",
       "        [ 65,  39,  29,   9,  56,  92,   7,  16,  44,  13,  60,  21,   0,   0,\n",
       "           0,   0,   0,   0,   0,   0,   0,   0,   0,   0,   0,   0,   0,   0,\n",
       "           0,   0],\n",
       "        [100,  64,  61,  13,  87,   8, 104,   5,  21,  50,  88, 105,  47,  77,\n",
       "         107,  89,  33,  33,  23,   7,  93,  56,  87,  58,  56,   0,   0,   0,\n",
       "           0,   0],\n",
       "        [ 83,  44,  48,   6,  96,  40,  47,  68,  29,  32,  88,   8,   0,   0,\n",
       "           0,   0,   0,   0,   0,   0,   0,   0,   0,   0,   0,   0,   0,   0,\n",
       "           0,   0],\n",
       "        [  1,  15,  36,  28, 109,  76,   7,  13,  22,  86,  35,  64,  89,  84,\n",
       "          83,  63,   4,  30,  47,  37,   0,   0,   0,   0,   0,   0,   0,   0,\n",
       "           0,   0],\n",
       "        [ 99, 102,  30, 100,  18, 110,   3,  53,  75,  36,  74,  89,  22,  72,\n",
       "          18,  58,  21,  57,  64,  12,   0,   0,   0,   0,   0,   0,   0,   0,\n",
       "           0,   0],\n",
       "        [ 29,  65,  52,  58,  46,  76,  35,  72,  94,   9,  10,  64,  38,   0,\n",
       "           0,   0,   0,   0,   0,   0,   0,   0,   0,   0,   0,   0,   0,   0,\n",
       "           0,   0],\n",
       "        [ 44,  97,  32,  76,  57,  67,  80,  78,   5,  44,  81,  67,  86,  23,\n",
       "          42,  55,  91, 103,  96,  63,   0,   0,   0,   0,   0,   0,   0,   0,\n",
       "           0,   0]])"
      ]
     },
     "execution_count": 9,
     "metadata": {},
     "output_type": "execute_result"
    }
   ],
   "source": [
    "Zs"
   ]
  },
  {
   "cell_type": "code",
   "execution_count": 10,
   "metadata": {},
   "outputs": [
    {
     "name": "stdout",
     "output_type": "stream",
     "text": [
      "torch.Size([20, 30, 3])\n",
      "torch.Size([20, 30, 30, 6])\n"
     ]
    },
    {
     "data": {
      "text/plain": [
       "tensor([ -4.2454,  -5.1538,  -6.1584, -11.2226, -11.7209,  -1.7913,  -7.7839,\n",
       "         -2.8416,  -1.8101,  -3.7942,  -7.0755,  -5.5387, -10.7433,  -3.5129,\n",
       "         -9.2853,  -2.5058,  -5.9024,  -6.7912,  -4.1861,  -7.3582],\n",
       "       grad_fn=<SumBackward1>)"
      ]
     },
     "execution_count": 10,
     "metadata": {},
     "output_type": "execute_result"
    }
   ],
   "source": [
    "model(Zs, utils.transform_D(Ds, num_gauss), sizes)"
   ]
  },
  {
   "cell_type": "code",
   "execution_count": 33,
   "metadata": {},
   "outputs": [],
   "source": [
    "ds = data.QM8Dataset('E1-CC2', 30)\n",
    "dl = DataLoader(ds, batch_size=15)"
   ]
  },
  {
   "cell_type": "code",
   "execution_count": 34,
   "metadata": {},
   "outputs": [],
   "source": [
    "Zs, Ds, sizes, target = next(iter(dl))"
   ]
  },
  {
   "cell_type": "code",
   "execution_count": 35,
   "metadata": {},
   "outputs": [
    {
     "name": "stdout",
     "output_type": "stream",
     "text": [
      "torch.Size([15, 30, 3])\n",
      "torch.Size([15, 30, 30, 6])\n"
     ]
    },
    {
     "data": {
      "text/plain": [
       "tensor([-0.9837, -0.2447,  0.0298, -0.5211,  0.0952, -0.3821, -3.8352, -1.8950,\n",
       "        -3.2366, -1.8696, -2.9710, -1.9652, -6.5276, -4.9831, -4.9447],\n",
       "       grad_fn=<SumBackward1>)"
      ]
     },
     "execution_count": 35,
     "metadata": {},
     "output_type": "execute_result"
    }
   ],
   "source": [
    "model(Zs, utils.transform_D(Ds, num_gauss), sizes)"
   ]
  },
  {
   "cell_type": "code",
   "execution_count": null,
   "metadata": {},
   "outputs": [],
   "source": []
  }
 ],
 "metadata": {
  "kernelspec": {
   "display_name": "Python 3",
   "language": "python",
   "name": "python3"
  },
  "language_info": {
   "codemirror_mode": {
    "name": "ipython",
    "version": 3
   },
   "file_extension": ".py",
   "mimetype": "text/x-python",
   "name": "python",
   "nbconvert_exporter": "python",
   "pygments_lexer": "ipython3",
   "version": "3.7.7"
  }
 },
 "nbformat": 4,
 "nbformat_minor": 4
}
